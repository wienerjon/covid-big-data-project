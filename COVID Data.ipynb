{
 "cells": [
  {
   "cell_type": "code",
   "execution_count": 1,
   "metadata": {},
   "outputs": [],
   "source": [
    "%matplotlib inline\n",
    "\n",
    "import numpy as np\n",
    "import matplotlib.pyplot as plt\n",
    "import matplotlib.dates as mdates\n",
    "from matplotlib.dates import YearLocator, MonthLocator, DayLocator, DateFormatter\n",
    "import csv\n",
    "import datetime as dt\n",
    "import pandas as pd\n",
    "from datetime import datetime"
   ]
  },
  {
   "cell_type": "code",
   "execution_count": 2,
   "metadata": {},
   "outputs": [],
   "source": [
    "df = pd.read_csv('COVID-19_Daily_Counts_of_Cases__Hospitalizations__and_Deaths.csv'\\\n",
    "                )[['DATE_OF_INTEREST','CASE_COUNT', 'HOSPITALIZED_COUNT', 'DEATH_COUNT']]"
   ]
  },
  {
   "cell_type": "code",
   "execution_count": 3,
   "metadata": {},
   "outputs": [],
   "source": [
    "df['DATE_OF_INTEREST']= pd.to_datetime(df['DATE_OF_INTEREST'])\n",
    "df.set_index(['DATE_OF_INTEREST'])\n",
    "df = df.iloc[:123,:]"
   ]
  },
  {
   "cell_type": "code",
   "execution_count": 4,
   "metadata": {},
   "outputs": [],
   "source": [
    "w = open('COVID_cases_daily.csv', 'w')\n",
    "toWrite = df.to_csv(index=False)\n",
    "w.write(toWrite)\n",
    "w.close()"
   ]
  },
  {
   "cell_type": "code",
   "execution_count": 5,
   "metadata": {},
   "outputs": [
    {
     "data": {
      "text/html": [
       "<div>\n",
       "<style scoped>\n",
       "    .dataframe tbody tr th:only-of-type {\n",
       "        vertical-align: middle;\n",
       "    }\n",
       "\n",
       "    .dataframe tbody tr th {\n",
       "        vertical-align: top;\n",
       "    }\n",
       "\n",
       "    .dataframe thead th {\n",
       "        text-align: right;\n",
       "    }\n",
       "</style>\n",
       "<table border=\"1\" class=\"dataframe\">\n",
       "  <thead>\n",
       "    <tr style=\"text-align: right;\">\n",
       "      <th></th>\n",
       "      <th>CASE_COUNT</th>\n",
       "      <th>HOSPITALIZED_COUNT</th>\n",
       "      <th>DEATH_COUNT</th>\n",
       "    </tr>\n",
       "    <tr>\n",
       "      <th>DATE_OF_INTEREST</th>\n",
       "      <th></th>\n",
       "      <th></th>\n",
       "      <th></th>\n",
       "    </tr>\n",
       "  </thead>\n",
       "  <tbody>\n",
       "    <tr>\n",
       "      <th>2</th>\n",
       "      <td>1</td>\n",
       "      <td>0</td>\n",
       "      <td>0</td>\n",
       "    </tr>\n",
       "    <tr>\n",
       "      <th>3</th>\n",
       "      <td>65190</td>\n",
       "      <td>18060</td>\n",
       "      <td>2191</td>\n",
       "    </tr>\n",
       "    <tr>\n",
       "      <th>4</th>\n",
       "      <td>109311</td>\n",
       "      <td>29694</td>\n",
       "      <td>12734</td>\n",
       "    </tr>\n",
       "    <tr>\n",
       "      <th>5</th>\n",
       "      <td>28460</td>\n",
       "      <td>4270</td>\n",
       "      <td>2830</td>\n",
       "    </tr>\n",
       "    <tr>\n",
       "      <th>6</th>\n",
       "      <td>10881</td>\n",
       "      <td>1594</td>\n",
       "      <td>761</td>\n",
       "    </tr>\n",
       "  </tbody>\n",
       "</table>\n",
       "</div>"
      ],
      "text/plain": [
       "                  CASE_COUNT  HOSPITALIZED_COUNT  DEATH_COUNT\n",
       "DATE_OF_INTEREST                                             \n",
       "2                          1                   0            0\n",
       "3                      65190               18060         2191\n",
       "4                     109311               29694        12734\n",
       "5                      28460                4270         2830\n",
       "6                      10881                1594          761"
      ]
     },
     "execution_count": 5,
     "metadata": {},
     "output_type": "execute_result"
    }
   ],
   "source": [
    "df.index = pd.to_datetime(df['DATE_OF_INTEREST'], format='%Y-%m-%d')\n",
    "covid_months = df.groupby(by=[df.index.month]).sum()\n",
    "covid_months"
   ]
  },
  {
   "cell_type": "code",
   "execution_count": 19,
   "metadata": {},
   "outputs": [
    {
     "name": "stdout",
     "output_type": "stream",
     "text": [
      "{'CASE_COUNT': {2: 1, 3: 65190, 4: 109311, 5: 28460, 6: 10881}, 'HOSPITALIZED_COUNT': {2: 0, 3: 18060, 4: 29694, 5: 4270, 6: 1594}, 'DEATH_COUNT': {2: 0, 3: 2191, 4: 12734, 5: 2830, 6: 761}}\n"
     ]
    }
   ],
   "source": [
    "d = covid_months.to_dict()\n",
    "cases = d['CASE_COUNT']\n",
    "cases = list(cases.values())\n",
    "print(d)"
   ]
  },
  {
   "cell_type": "code",
   "execution_count": 7,
   "metadata": {},
   "outputs": [],
   "source": [
    "rides_df = pd.read_csv('taxi_trips_per_day.csv', header=None)\n",
    "rides_df.index = pd.to_datetime(rides_df[0], format='%Y-%m-%d')\n",
    "months = rides_df.groupby(by=[rides_df.index.month, rides_df.index.year]).sum()\n",
    "\n",
    "d = months.to_dict()[1]\n",
    "Y19_months = []\n",
    "Y20_months = []\n",
    "dates = []\n",
    "for x in d.items():\n",
    "    if x[0][1] == 2019:\n",
    "        Y19_months.append(x[1])\n",
    "    else:\n",
    "        Y20_months.append(x[1])"
   ]
  },
  {
   "cell_type": "code",
   "execution_count": 9,
   "metadata": {},
   "outputs": [
    {
     "data": {
      "image/png": "[encoded data removed]",
      "text/plain": [
       "<matplotlib.figure.Figure at 0x7f7fd0858c50>"
      ]
     },
     "metadata": {},
     "output_type": "display_data"
    }
   ],
   "source": [
    "labels = ['February', 'March', 'April', 'May', 'June']\n",
    "\n",
    "x = np.arange(len(labels))  # the label locations\n",
    "width = 0.35  # the width of the bars\n",
    "\n",
    "fig, ax = plt.subplots()\n",
    "rects1 = ax.bar(x - 2*width/3, Y19_months, width, label='2019', zorder=3)\n",
    "rects2 = ax.bar(x - width/3, Y20_months, width, label='2020', zorder=3)\n",
    "rects3 = ax.bar(x + width/3, cases, width, label='Cases', zorder=3)\n",
    "\n",
    "# Add some text for labels, title and custom x-axis tick labels, etc.\n",
    "ax.set_ylabel('Number of rides')\n",
    "ax.set_title('For Hire Rides: 2019 vs 2020')\n",
    "ax.set_xticks(x)\n",
    "ax.set_xticklabels(labels)\n",
    "ax.legend()\n",
    "ax.grid(axis='y', zorder=0)\n",
    "\n",
    "fig.tight_layout()\n",
    "\n",
    "plt.show()"
   ]
  },
  {
   "cell_type": "code",
   "execution_count": 38,
   "metadata": {},
   "outputs": [
    {
     "data": {
      "image/png": "[encoded data removed]",
      "text/plain": [
       "<matplotlib.figure.Figure at 0x7f7fd12550f0>"
      ]
     },
     "metadata": {},
     "output_type": "display_data"
    }
   ],
   "source": [
    "labels = ['February', 'March', 'April', 'May', 'June']\n",
    "fig, ax = plt.subplots()\n",
    "x = np.arange(len(labels))  # the label locations\n",
    "data = d['CASE_COUNT']\n",
    "names = list(data.keys())\n",
    "cases_values = list(data.values())\n",
    "deaths_values = list(d['DEATH_COUNT'].values())\n",
    "hosp_values = list(d['HOSPITALIZED_COUNT'].values())\n",
    "\n",
    "# values.insert(0,0)\n",
    "# names.insert(0,0)\n",
    "ax.set_title('COVID-19 Cases Per Month')\n",
    "ax.set_ylabel('COVID-19 cases')\n",
    "ax.set_xlabel('Month')\n",
    "\n",
    "ax.plot(names, cases_values)\n",
    "ax.plot(names, deaths_values)\n",
    "ax.plot(names, hosp_values)\n",
    "# ax.set_xticks(x)\n",
    "# ax.set_xticklabels(labels)\n",
    "plt.show()"
   ]
  },
  {
   "cell_type": "code",
   "execution_count": null,
   "metadata": {},
   "outputs": [],
   "source": []
  }
 ],
 "metadata": {
  "kernelspec": {
   "display_name": "Python 3",
   "language": "python",
   "name": "python3"
  },
  "language_info": {
   "codemirror_mode": {
    "name": "ipython",
    "version": 3
   },
   "file_extension": ".py",
   "mimetype": "text/x-python",
   "name": "python",
   "nbconvert_exporter": "python",
   "pygments_lexer": "ipython3",
   "version": "3.6.4"
  }
 },
 "nbformat": 4,
 "nbformat_minor": 2
}